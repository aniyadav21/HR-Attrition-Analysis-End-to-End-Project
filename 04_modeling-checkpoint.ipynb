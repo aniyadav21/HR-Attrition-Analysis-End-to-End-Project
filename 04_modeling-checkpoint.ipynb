{
 "cells": [
  {
   "cell_type": "code",
   "execution_count": 6,
   "id": "637d7d9b-6021-4dfb-8fd1-d0fee4c7a97a",
   "metadata": {},
   "outputs": [
    {
     "name": "stdout",
     "output_type": "stream",
     "text": [
      "Training data shape: (1176, 34)\n",
      "Testing data shape: (294, 34)\n"
     ]
    }
   ],
   "source": [
    "import pandas as pd\n",
    "import joblib\n",
    "\n",
    "# Load preprocessed train/test sets\n",
    "X_train_scaled = pd.read_csv(\"data/X_train_scaled.csv\").values\n",
    "X_test_scaled  = pd.read_csv(\"data/X_test_scaled.csv\").values\n",
    "y_train = pd.read_csv(\"data/y_train.csv\").values.ravel()\n",
    "y_test  = pd.read_csv(\"data/y_test.csv\").values.ravel()\n",
    "\n",
    "print(\"Training data shape:\", X_train_scaled.shape)\n",
    "print(\"Testing data shape:\", X_test_scaled.shape)\n",
    "\n",
    "# Load scaler (optional, if you need to transform new data later)\n",
    "scaler = joblib.load(\"models/scaler.pkl\")"
   ]
  },
  {
   "cell_type": "code",
   "execution_count": 7,
   "id": "4dd6862c-6b54-4bc1-8774-15deff93c341",
   "metadata": {},
   "outputs": [],
   "source": [
    "from sklearn.linear_model import LogisticRegression\n",
    "from sklearn.tree import DecisionTreeClassifier\n",
    "from sklearn.ensemble import RandomForestClassifier\n",
    "from sklearn.metrics import accuracy_score, precision_score, recall_score, f1_score, confusion_matrix, classification_report\n",
    "import seaborn as sns\n",
    "import matplotlib.pyplot as plt"
   ]
  },
  {
   "cell_type": "code",
   "execution_count": 8,
   "id": "fdcac6bb-8d29-4e19-9761-848f7df29337",
   "metadata": {},
   "outputs": [
    {
     "name": "stdout",
     "output_type": "stream",
     "text": [
      "Logistic Regression Report:\n",
      "               precision    recall  f1-score   support\n",
      "\n",
      "           0       0.89      0.97      0.93       247\n",
      "           1       0.69      0.38      0.49        47\n",
      "\n",
      "    accuracy                           0.87       294\n",
      "   macro avg       0.79      0.68      0.71       294\n",
      "weighted avg       0.86      0.87      0.86       294\n",
      "\n"
     ]
    }
   ],
   "source": [
    "# Logistic Regression\n",
    "log_reg = LogisticRegression(max_iter=1000)\n",
    "log_reg.fit(X_train_scaled, y_train)\n",
    "\n",
    "y_pred_log = log_reg.predict(X_test_scaled)\n",
    "\n",
    "print(\"Logistic Regression Report:\\n\", classification_report(y_test, y_pred_log))\n"
   ]
  },
  {
   "cell_type": "code",
   "execution_count": 9,
   "id": "e6fdfcc2-971f-4407-b38e-287a10c9a190",
   "metadata": {},
   "outputs": [
    {
     "name": "stdout",
     "output_type": "stream",
     "text": [
      "Logistic Regression Report:\n",
      "               precision    recall  f1-score   support\n",
      "\n",
      "           0       0.89      0.97      0.93       247\n",
      "           1       0.69      0.38      0.49        47\n",
      "\n",
      "    accuracy                           0.87       294\n",
      "   macro avg       0.79      0.68      0.71       294\n",
      "weighted avg       0.86      0.87      0.86       294\n",
      "\n"
     ]
    }
   ],
   "source": [
    "# Logistic Regression\n",
    "log_reg = LogisticRegression(max_iter=1000)\n",
    "log_reg.fit(X_train_scaled, y_train)\n",
    "\n",
    "y_pred_log = log_reg.predict(X_test_scaled)\n",
    "\n",
    "print(\"Logistic Regression Report:\\n\", classification_report(y_test, y_pred_log))"
   ]
  },
  {
   "cell_type": "code",
   "execution_count": 10,
   "id": "a0e933b6-6ac3-4b75-977b-ad62543f8275",
   "metadata": {},
   "outputs": [
    {
     "name": "stdout",
     "output_type": "stream",
     "text": [
      "Decision Tree Report:\n",
      "               precision    recall  f1-score   support\n",
      "\n",
      "           0       0.86      0.97      0.91       247\n",
      "           1       0.53      0.19      0.28        47\n",
      "\n",
      "    accuracy                           0.84       294\n",
      "   macro avg       0.70      0.58      0.60       294\n",
      "weighted avg       0.81      0.84      0.81       294\n",
      "\n"
     ]
    }
   ],
   "source": [
    "# Decision Tree\n",
    "dt = DecisionTreeClassifier(random_state=42, max_depth=5)\n",
    "dt.fit(X_train_scaled, y_train)\n",
    "\n",
    "y_pred_dt = dt.predict(X_test_scaled)\n",
    "\n",
    "print(\"Decision Tree Report:\\n\", classification_report(y_test, y_pred_dt))"
   ]
  },
  {
   "cell_type": "code",
   "execution_count": 11,
   "id": "9d4a16ce-684e-47d2-a880-142e88c904ef",
   "metadata": {},
   "outputs": [
    {
     "name": "stdout",
     "output_type": "stream",
     "text": [
      "Random Forest Report:\n",
      "               precision    recall  f1-score   support\n",
      "\n",
      "           0       0.85      0.97      0.91       247\n",
      "           1       0.38      0.11      0.17        47\n",
      "\n",
      "    accuracy                           0.83       294\n",
      "   macro avg       0.62      0.54      0.54       294\n",
      "weighted avg       0.78      0.83      0.79       294\n",
      "\n"
     ]
    }
   ],
   "source": [
    "# Random Forest\n",
    "rf = RandomForestClassifier(n_estimators=100, random_state=42)\n",
    "rf.fit(X_train_scaled, y_train)\n",
    "\n",
    "y_pred_rf = rf.predict(X_test_scaled)\n",
    "\n",
    "print(\"Random Forest Report:\\n\", classification_report(y_test, y_pred_rf))"
   ]
  },
  {
   "cell_type": "code",
   "execution_count": 12,
   "id": "89925d6f-a107-49dc-9afc-6b5fed8d9b48",
   "metadata": {},
   "outputs": [
    {
     "name": "stdout",
     "output_type": "stream",
     "text": [
      "                 Model  Accuracy  Precision    Recall  F1 Score\n",
      "0  Logistic Regression  0.874150   0.692308  0.382979  0.493151\n",
      "1        Decision Tree  0.843537   0.529412  0.191489  0.281250\n",
      "2        Random Forest  0.829932   0.384615  0.106383  0.166667\n"
     ]
    }
   ],
   "source": [
    "# Store metrics in a table\n",
    "models = [\"Logistic Regression\", \"Decision Tree\", \"Random Forest\"]\n",
    "accuracy = [\n",
    "    accuracy_score(y_test, y_pred_log),\n",
    "    accuracy_score(y_test, y_pred_dt),\n",
    "    accuracy_score(y_test, y_pred_rf)\n",
    "]\n",
    "precision = [\n",
    "    precision_score(y_test, y_pred_log),\n",
    "    precision_score(y_test, y_pred_dt),\n",
    "    precision_score(y_test, y_pred_rf)\n",
    "]\n",
    "recall = [\n",
    "    recall_score(y_test, y_pred_log),\n",
    "    recall_score(y_test, y_pred_dt),\n",
    "    recall_score(y_test, y_pred_rf)\n",
    "]\n",
    "f1 = [\n",
    "    f1_score(y_test, y_pred_log),\n",
    "    f1_score(y_test, y_pred_dt),\n",
    "    f1_score(y_test, y_pred_rf)\n",
    "]\n",
    "\n",
    "import pandas as pd\n",
    "results = pd.DataFrame({\n",
    "    \"Model\": models,\n",
    "    \"Accuracy\": accuracy,\n",
    "    \"Precision\": precision,\n",
    "    \"Recall\": recall,\n",
    "    \"F1 Score\": f1\n",
    "})\n",
    "\n",
    "print(results)"
   ]
  },
  {
   "cell_type": "code",
   "execution_count": 13,
   "id": "9d0a54ad-bc2b-41ac-b7ca-1d7779fd58bd",
   "metadata": {},
   "outputs": [
    {
     "data": {
      "image/png": "[encoded data removed]",
      "text/plain": [
       "<Figure size 600x400 with 2 Axes>"
      ]
     },
     "metadata": {},
     "output_type": "display_data"
    }
   ],
   "source": [
    "cm = confusion_matrix(y_test, y_pred_rf)\n",
    "plt.figure(figsize=(6,4))\n",
    "sns.heatmap(cm, annot=True, fmt=\"d\", cmap=\"Blues\", xticklabels=[\"No\", \"Yes\"], yticklabels=[\"No\", \"Yes\"])\n",
    "plt.xlabel(\"Predicted\")\n",
    "plt.ylabel(\"Actual\")\n",
    "plt.title(\"Confusion Matrix - Random Forest\")\n",
    "plt.show()"
   ]
  },
  {
   "cell_type": "code",
   "execution_count": null,
   "id": "98381476-0c76-4287-bd3f-61e96682176a",
   "metadata": {},
   "outputs": [],
   "source": []
  }
 ],
 "metadata": {
  "kernelspec": {
   "display_name": "Python 3 (ipykernel)",
   "language": "python",
   "name": "python3"
  },
  "language_info": {
   "codemirror_mode": {
    "name": "ipython",
    "version": 3
   },
   "file_extension": ".py",
   "mimetype": "text/x-python",
   "name": "python",
   "nbconvert_exporter": "python",
   "pygments_lexer": "ipython3",
   "version": "3.13.3"
  }
 },
 "nbformat": 4,
 "nbformat_minor": 5
}
